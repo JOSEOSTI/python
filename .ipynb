{
 "cells": [
  {
   "cell_type": "markdown",
   "metadata": {},
   "source": [
    "# Introducción a la programación con Python\n"
   ]
  },
  {
   "cell_type": "markdown",
   "metadata": {},
   "source": [
    "### 1.Calcular el mínimo común múltiplo de dos numeros."
   ]
  },
  {
   "cell_type": "code",
   "execution_count": 14,
   "metadata": {},
   "outputs": [
    {
     "name": "stdout",
     "output_type": "stream",
     "text": [
      "4\n",
      "400\n"
     ]
    }
   ],
   "source": [
    "# Ejercicio calcular  el minimo común  multiplo de dos numeros\n",
    "# crearemos una funcion python \n",
    "def mcm(x,y):\n",
    "    num=max(x, y)\n",
    "#creamos un cliclo while\n",
    "    while True:\n",
    "        if( num % x == 0) and ( num % y == 0):\n",
    "            return num \n",
    "        num += 1\n",
    "print(mcm(2, 4))\n",
    "print(mcm(16, 25))"
   ]
  },
  {
   "cell_type": "code",
   "execution_count": null,
   "metadata": {},
   "outputs": [],
   "source": [
    "# Segunda forma\n",
    "# importamos la libreria math\n",
    "import math\n",
    "num1 = int(input(\"Ingrese el primer numero :\"))\n",
    "\n",
    "num2 = int(input(\"Ingrese el segundo numero :\"))\n",
    "\n",
    "minimo= min(num1,num2)\n",
    "\n",
    "# Realizamos un ciclo for para iterar entre 1 y el minimo de los dos numeros\n",
    "\n",
    "for i in range(1,minimo):\n",
    "    if(num1% i == 0 and num2 % i == 0):\n",
    "        \n",
    "        mcd= i\n",
    "        \n",
    "        mcm = (num1 * num2)/ mcd\n",
    "print(\"El M.C.M entre\" + str(num1) + \" y \" + str(num2) + \" es: \" + str(mcm) )\n",
    "input()"
   ]
  },
  {
   "cell_type": "code",
   "execution_count": null,
   "metadata": {},
   "outputs": [],
   "source": []
  }
 ],
 "metadata": {
  "kernelspec": {
   "display_name": "Python 3",
   "language": "python",
   "name": "python3"
  },
  "language_info": {
   "codemirror_mode": {
    "name": "ipython",
    "version": 3
   },
   "file_extension": ".py",
   "mimetype": "text/x-python",
   "name": "python",
   "nbconvert_exporter": "python",
   "pygments_lexer": "ipython3",
   "version": "3.7.6"
  }
 },
 "nbformat": 4,
 "nbformat_minor": 4
}
