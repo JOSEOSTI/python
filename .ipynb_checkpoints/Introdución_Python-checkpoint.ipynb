{
 "cells": [
  {
   "cell_type": "markdown",
   "metadata": {},
   "source": [
    "# Introducción a Python\n",
    "### Nombre: Jose Ostaiza  \n",
    "### Fecha:23/06/2020\n",
    "\n"
   ]
  },
  {
   "cell_type": "markdown",
   "metadata": {},
   "source": [
    "## 1.-Comentarios en Python"
   ]
  },
  {
   "cell_type": "markdown",
   "metadata": {},
   "source": [
    "# Esto es  un comentario de línea\n",
    "\"\"\" Esto es un comentario\n",
    "de varias lineas\n",
    "\"\"\"\n",
    "#### Python solo reconoce como comentarios los textos que estén precedidos del carácter numeral.\n",
    "\n",
    "#### El segundo caso se trata realmente de una cadena de texto de varias líneas que no se ha asignado a ninguna variable.\n",
    "\n",
    "## 2.-Constantes y variables en Python"
   ]
  },
  {
   "cell_type": "code",
   "execution_count": 4,
   "metadata": {},
   "outputs": [
    {
     "name": "stdout",
     "output_type": "stream",
     "text": [
      "Esto es una constante numérica: 123456\n",
      "Esto es una cadena de texto: hola como estas?\n"
     ]
    }
   ],
   "source": [
    "# Constantes:imprimimos y comprobamos los resultados\n",
    "\n",
    "print(\"Esto es una constante numérica: \" + str(123456))\n",
    "print(\"Esto es una cadena de texto: \" + \"hola como estas?\")"
   ]
  },
  {
   "cell_type": "code",
   "execution_count": 6,
   "metadata": {},
   "outputs": [
    {
     "name": "stdout",
     "output_type": "stream",
     "text": [
      "Esto es una variable numérica: 6\n",
      "Esto es una cadena de texto: Hola mundo\n"
     ]
    }
   ],
   "source": [
    "# Variable numérica\n",
    "variable_numerica = 6\n",
    "\n",
    "# Variable cadena de texto (string)\n",
    "variable_String = \"Hola mundo\"\n",
    "\n",
    "# Imprimimos y comprobamos los resultados\n",
    "# Como puedes observar , usamos el símbolo + para concatenar cadenas de texto\n",
    "# Esto es un ejemplo básico de lo que se conoce como sobrecarga de operadores\n",
    "# un mismo símbolo tiene distintos significados según el tipo  a los que aplica\n",
    "print(\"Esto es una variable numérica: \" + str(variable_numerica))\n",
    "print(\"Esto es una cadena de texto: \" + variable_String)\n"
   ]
  },
  {
   "cell_type": "markdown",
   "metadata": {},
   "source": [
    "## 3.-Nombres sensibles a mayúsculas y valores constantes(Python)"
   ]
  },
  {
   "cell_type": "code",
   "execution_count": 8,
   "metadata": {},
   "outputs": [
    {
     "name": "stdout",
     "output_type": "stream",
     "text": [
      "5\n",
      "2\n"
     ]
    }
   ],
   "source": [
    "# Los nombres son sensibles a mayúsculas\n",
    "Variable = 5\n",
    "variable = 2\n",
    "print(Variable)\n",
    "print(variable)"
   ]
  },
  {
   "cell_type": "markdown",
   "metadata": {},
   "source": [
    "#### Si queremos declarar un valor constante para todo el programa pero no queremos introducir el valor exacto  de forma reiterativa podemos hacer así\n",
    "CONSTANTE_PRUEBA = 5\n",
    "#### De esta  forma, al estar en mayúscula indicamos que queremos que tenga tratamiento  de constante. Si quisiéramos cambiar el valor  bastaría con hacerlo solo en la declaración y no tener que ir  reemplazando todos los 5  que hemos puesto"
   ]
  },
  {
   "cell_type": "markdown",
   "metadata": {},
   "source": [
    "#### Podemos saber el tipo asociado a una variable concreta con la función Type. También hay funciones que nos permiten realizar conversión de tipos, como str (de número a cadena de texto), int (a entero), float (a número real):"
   ]
  },
  {
   "cell_type": "markdown",
   "metadata": {},
   "source": [
    "# "
   ]
  }
 ],
 "metadata": {
  "kernelspec": {
   "display_name": "Python 3",
   "language": "python",
   "name": "python3"
  },
  "language_info": {
   "codemirror_mode": {
    "name": "ipython",
    "version": 3
   },
   "file_extension": ".py",
   "mimetype": "text/x-python",
   "name": "python",
   "nbconvert_exporter": "python",
   "pygments_lexer": "ipython3",
   "version": "3.7.6"
  }
 },
 "nbformat": 4,
 "nbformat_minor": 4
}
