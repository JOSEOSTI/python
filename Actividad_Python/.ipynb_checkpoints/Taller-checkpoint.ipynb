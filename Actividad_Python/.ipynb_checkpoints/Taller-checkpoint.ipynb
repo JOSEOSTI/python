{
 "cells": [
  {
   "cell_type": "code",
   "execution_count": 4,
   "metadata": {},
   "outputs": [
    {
     "name": "stdout",
     "output_type": "stream",
     "text": [
      "Select door 'A', 'B', or 'C': A\n",
      "A\n"
     ]
    }
   ],
   "source": [
    "import random\n",
    "\n",
    "A = \"A\"\n",
    "B = \"B\"\n",
    "C = \"C\"\n",
    "\n",
    "puerta = [\"A\", \"B\", \"C\"]\n",
    "\n",
    "partidas=random.choice(puerta)\n",
    "\n",
    "\n",
    "seleccion = input(\"Selecciona la Puerta 'A', 'B', o 'C' :  \")\n",
    "print(partidas)\n"
   ]
  },
  {
   "cell_type": "code",
   "execution_count": null,
   "metadata": {},
   "outputs": [],
   "source": []
  },
  {
   "cell_type": "code",
   "execution_count": null,
   "metadata": {},
   "outputs": [],
   "source": []
  }
 ],
 "metadata": {
  "kernelspec": {
   "display_name": "Python 3",
   "language": "python",
   "name": "python3"
  },
  "language_info": {
   "codemirror_mode": {
    "name": "ipython",
    "version": 3
   },
   "file_extension": ".py",
   "mimetype": "text/x-python",
   "name": "python",
   "nbconvert_exporter": "python",
   "pygments_lexer": "ipython3",
   "version": "3.7.6"
  }
 },
 "nbformat": 4,
 "nbformat_minor": 4
}
