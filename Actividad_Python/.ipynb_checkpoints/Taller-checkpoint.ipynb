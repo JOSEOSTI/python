{
 "cells": [
  {
   "cell_type": "code",
   "execution_count": 7,
   "metadata": {},
   "outputs": [
    {
     "name": "stdout",
     "output_type": "stream",
     "text": [
      "Selecciona la Puerta 'A', 'B', o 'C' :  B\n",
      "B\n"
     ]
    }
   ],
   "source": [
    "import random\n",
    "\n",
    "A = \"A\"\n",
    "B = \"B\"\n",
    "C = \"C\"\n",
    "\n",
    "puerta = [\"A\", \"B\", \"C\"]\n",
    "\n",
    "partidas=random.choice(puerta)\n",
    "\n",
    "\n",
    "seleccion = input(\"Selecciona la Puerta 'A', 'B', o 'C' :  \")\n",
    "print(seleccion)\n"
   ]
  },
  {
   "cell_type": "code",
   "execution_count": 2,
   "metadata": {},
   "outputs": [
    {
     "name": "stdout",
     "output_type": "stream",
     "text": [
      "Elige una  puerta : (A,B or C) B\n",
      "Cambiar la puerta siempre/nunca (S,N) ? N\n",
      "-----\n",
      "Ahora jugaremos 10 veces\n",
      "---------------\n",
      "El premio estaba en la puerta :  B\n",
      "Elegiste la puerta :  B El moderador abrio la puerta :  A\n",
      "Te cambiaste a la puerta :  B\n",
      "Tu ganas ( total ganadas :  1 )\n",
      "--------------\n",
      "El premio estaba en la puerta :  B\n",
      "Elegiste la puerta :  B El moderador abrio la puerta :  A\n",
      "Te cambiaste a la puerta :  B\n",
      "Tu ganas ( total ganadas :  2 )\n",
      "--------------\n",
      "El premio estaba en la puerta :  A\n",
      "Elegiste la puerta :  B El moderador abrio la puerta :  C\n",
      "Te cambiaste a la puerta :  B\n",
      "--------------\n",
      "El premio estaba en la puerta :  B\n",
      "Elegiste la puerta :  B El moderador abrio la puerta :  C\n",
      "Te cambiaste a la puerta :  B\n",
      "Tu ganas ( total ganadas :  3 )\n",
      "--------------\n",
      "El premio estaba en la puerta :  B\n",
      "Elegiste la puerta :  B El moderador abrio la puerta :  C\n",
      "Te cambiaste a la puerta :  B\n",
      "Tu ganas ( total ganadas :  4 )\n",
      "--------------\n",
      "El premio estaba en la puerta :  C\n",
      "Elegiste la puerta :  B El moderador abrio la puerta :  A\n",
      "Te cambiaste a la puerta :  B\n",
      "--------------\n",
      "El premio estaba en la puerta :  B\n",
      "Elegiste la puerta :  B El moderador abrio la puerta :  C\n",
      "Te cambiaste a la puerta :  B\n",
      "Tu ganas ( total ganadas :  5 )\n",
      "--------------\n",
      "El premio estaba en la puerta :  B\n",
      "Elegiste la puerta :  B El moderador abrio la puerta :  C\n",
      "Te cambiaste a la puerta :  B\n",
      "Tu ganas ( total ganadas :  6 )\n",
      "--------------\n",
      "El premio estaba en la puerta :  A\n",
      "Elegiste la puerta :  B El moderador abrio la puerta :  C\n",
      "Te cambiaste a la puerta :  B\n",
      "--------------\n",
      "El premio estaba en la puerta :  B\n",
      "Elegiste la puerta :  B El moderador abrio la puerta :  C\n",
      "Te cambiaste a la puerta :  B\n",
      "Tu ganas ( total ganadas :  7 )\n",
      "--------------\n"
     ]
    }
   ],
   "source": [
    "# PROBLEMA  Monty Hall \n",
    "import random\n",
    "inicio =input(\"Elige una  puerta : (A,B or C) \").upper()\n",
    "action  = input(\"Cambiar la puerta siempre/nunca (S,N) ? \").upper()\n",
    "puertas  = [\"A\",\"B\",\"C\"]\n",
    "totWins = 0\n",
    "print(\"-----\")\n",
    "print (\"Ahora jugaremos 10 veces\")\n",
    "print (\"---------------\")\n",
    "for i in range(10) :\n",
    "    premio = random.choice(puertas)  # Premio colocado al azar\n",
    "    eleccion = inicio               # Tu primera eleccion\n",
    "    comodin   = [eleccion,premio]       # El moderador elige una puerta vacía.\n",
    "    avail  = [door for door in puertas if door not in comodin]\n",
    "    opened = random.choice(avail)\n",
    "    if action == \"S\" :             # Cambias a la puerta restante\n",
    "        avail = [door for door in puertas if door not in [eleccion,opened]]\n",
    "        eleccion = avail[0]          # debería ser la única puerta que queda\n",
    "    ganador = (eleccion == premio)\n",
    "    if ganador : totWins += 1\n",
    "    print (\"El premio estaba en la puerta : \", premio,)\n",
    "    print (\"Elegiste la puerta : \",inicio,\"El moderador abrio la puerta : \"   ,opened,)\n",
    "    if action == \"H\" : print (\"Te aferraste a la puerta : \"    ,eleccion,)\n",
    "    else             : print (\"Te cambiaste a la puerta : \",eleccion,)\n",
    "    if ganador : print (\"Tu ganas ( total ganadas : \",totWins,\")\",)\n",
    "    print(\"--------------\")"
   ]
  },
  {
   "cell_type": "code",
   "execution_count": null,
   "metadata": {},
   "outputs": [],
   "source": []
  },
  {
   "cell_type": "code",
   "execution_count": null,
   "metadata": {},
   "outputs": [],
   "source": []
  }
 ],
 "metadata": {
  "kernelspec": {
   "display_name": "Python 3",
   "language": "python",
   "name": "python3"
  },
  "language_info": {
   "codemirror_mode": {
    "name": "ipython",
    "version": 3
   },
   "file_extension": ".py",
   "mimetype": "text/x-python",
   "name": "python",
   "nbconvert_exporter": "python",
   "pygments_lexer": "ipython3",
   "version": "3.7.6"
  }
 },
 "nbformat": 4,
 "nbformat_minor": 4
}
