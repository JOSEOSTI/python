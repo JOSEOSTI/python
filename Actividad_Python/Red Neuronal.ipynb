{
 "cells": [
  {
   "cell_type": "code",
   "execution_count": 1,
   "metadata": {},
   "outputs": [
    {
     "name": "stdout",
     "output_type": "stream",
     "text": [
      "0.01798620996209156\n"
     ]
    }
   ],
   "source": [
    "import math\n",
    "\n",
    "\n",
    "\n",
    "class Neurona:\n",
    "    entradas = []  \n",
    "    pesos = []\n",
    "    bias = 0\n",
    "    \n",
    "    def __sumatoriaPonderada(self):\n",
    "        acum = self.bias\n",
    "        for x in range (0,len(self.entradas)):\n",
    "            acum = acum + self.entradas[x] * self.pesos[x] \n",
    "        return acum\n",
    "    #funcion debe parametrica \n",
    "    def __sigmoid(self, x):\n",
    "        return 1 / (1 + math.exp(-x))\n",
    "    \n",
    "    def evaluar(self):\n",
    "        return self.__sigmoid(self.__sumatoriaPonderada())\n",
    "        \n",
    "        \n",
    "neurona1 = Neurona()\n",
    "neurona1.entradas  = [2, 4]\n",
    "neurona1.pesos = [1, 1]\n",
    "neurona1.bias = -10\n",
    "  \n",
    "sumador = neurona1.evaluar()\n",
    "\n",
    "print(sumador)"
   ]
  },
  {
   "cell_type": "code",
   "execution_count": 14,
   "metadata": {},
   "outputs": [
    {
     "name": "stdout",
     "output_type": "stream",
     "text": [
      "0\n"
     ]
    }
   ],
   "source": [
    "# Desarrollar el programa de la mochila en Python con programación dinámica.\n",
    "#La función mochila se define como el valor máximo que puede llevar una mochila,\n",
    "#con N elementos a elegir y con una capacidad C.\n",
    "import functools\n",
    "\n",
    "\n",
    "def mochila(n,c):\n",
    "    if n == 0 or c == 0:\n",
    "        # solucion optima para cuando no quedan elementos o la capacidad disponible es 0\n",
    "        return 0\n",
    "    elif datos[n].peso > c:\n",
    "        # no metemos el elemento\n",
    "        return mochila(n-1,c)\n",
    "    else:\n",
    "        #sin meter el elemento\n",
    "        a = mochila(n-1,c)\n",
    "        # metiendo el elemento\n",
    "        b = datos[n].valor + mochila(n-1,c-datos[n].peso)\n",
    "        return max(a,b)\n",
    "    \n",
    "contiene_mochila=mochila(n,c)\n",
    "print(contiene_mochila)"
   ]
  },
  {
   "cell_type": "code",
   "execution_count": null,
   "metadata": {},
   "outputs": [],
   "source": []
  },
  {
   "cell_type": "code",
   "execution_count": null,
   "metadata": {},
   "outputs": [],
   "source": []
  }
 ],
 "metadata": {
  "kernelspec": {
   "display_name": "Python 3",
   "language": "python",
   "name": "python3"
  },
  "language_info": {
   "codemirror_mode": {
    "name": "ipython",
    "version": 3
   },
   "file_extension": ".py",
   "mimetype": "text/x-python",
   "name": "python",
   "nbconvert_exporter": "python",
   "pygments_lexer": "ipython3",
   "version": "3.7.6"
  }
 },
 "nbformat": 4,
 "nbformat_minor": 4
}
