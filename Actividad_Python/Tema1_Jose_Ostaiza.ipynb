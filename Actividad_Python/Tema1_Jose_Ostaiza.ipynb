{
 "cells": [
  {
   "cell_type": "markdown",
   "metadata": {},
   "source": [
    "# Introducción a la programación con Python\n",
    "\n",
    "## Actividades"
   ]
  },
  {
   "cell_type": "markdown",
   "metadata": {},
   "source": [
    "### 1.Calcular el mínimo común múltiplo de dos numeros."
   ]
  },
  {
   "cell_type": "code",
   "execution_count": 17,
   "metadata": {},
   "outputs": [
    {
     "name": "stdout",
     "output_type": "stream",
     "text": [
      "4\n",
      "400\n"
     ]
    }
   ],
   "source": [
    "# Ejercicio calcular  el minimo común  multiplo de dos numeros\n",
    "# crearemos una funcion python \n",
    "def mcm(x,y):\n",
    "    num=max(x, y)\n",
    "#creamos un cliclo while\n",
    "    while True:\n",
    "        if( num % x == 0) and ( num % y == 0):\n",
    "            return num \n",
    "        # sumamos 1 al numero obtenido \n",
    "        num += 1\n",
    "print(mcm(2, 4))\n",
    "print(mcm(16, 25))"
   ]
  },
  {
   "cell_type": "code",
   "execution_count": 18,
   "metadata": {},
   "outputs": [
    {
     "name": "stdout",
     "output_type": "stream",
     "text": [
      "Ingrese el primer numero :5\n",
      "Ingrese el segundo numero :8\n",
      "El M.C.M entre5 y 8 es: 40.0\n"
     ]
    }
   ],
   "source": [
    "# Segunda forma\n",
    "# importamos la libreria math\n",
    "import math\n",
    "num1 = int(input(\"Ingrese el primer numero :\"))\n",
    "\n",
    "num2 = int(input(\"Ingrese el segundo numero :\"))\n",
    "\n",
    "minimo= min(num1,num2)\n",
    "\n",
    "# Realizamos un ciclo for para iterar entre 1 y el minimo de los dos numeros\n",
    "# todos los valores que toma i en el ciclo\n",
    "\n",
    "for i in range(1,minimo):\n",
    "    if(num1 % i == 0 and num2 % i == 0):\n",
    "        # mcd será el ultimi valor de los valores que obtendra i    \n",
    "        mcd= i\n",
    "        #calculamos el mínimo común múltiplo\n",
    "        mcm = (num1 * num2)/ mcd\n",
    "print(\"El M.C.M entre\" + str(num1) + \" y \" + str(num2) + \" es: \" + str(mcm))\n"
   ]
  },
  {
   "cell_type": "markdown",
   "metadata": {},
   "source": [
    "### 2.Calcular el máximo común divisor de dos numeros.\n"
   ]
  },
  {
   "cell_type": "code",
   "execution_count": 16,
   "metadata": {},
   "outputs": [
    {
     "name": "stdout",
     "output_type": "stream",
     "text": [
      "4\n",
      "1\n",
      "2\n"
     ]
    }
   ],
   "source": [
    "# Ejercicio para calcular el máximo común divisor \n",
    "# creamos una  funcion\n",
    "\n",
    "def mcd(x, y):\n",
    "    mcd = 1 #creamos una variable  ya que cualquier numero sera multplo de 1\n",
    "    \n",
    "    if x % y == 0:\n",
    "        return y # la variable y sera el máximo común divisor\n",
    "    \n",
    "    for k in range(int(y/2), 0, -1): # reducimos y hasta que alcanze el valor 1 \n",
    "        if x % k == 0 and y % k == 0: #comprobamos  si x y y es igual a 0 k sera el divisor entre x y y\n",
    "            mcd = k\n",
    "            break\n",
    "        \n",
    "    return mcd\n",
    "\n",
    "print(mcd(8,4))\n",
    "print(mcd(13,5))\n",
    "print(mcd(20,6))"
   ]
  },
  {
   "cell_type": "markdown",
   "metadata": {},
   "source": [
    "###  3.Gráfico de tarta (pie chart) con Mapplotlib"
   ]
  },
  {
   "cell_type": "code",
   "execution_count": 25,
   "metadata": {},
   "outputs": [
    {
     "data": {
      "image/png": "[encoded data removed]",
      "text/plain": [
       "<Figure size 432x288 with 1 Axes>"
      ]
     },
     "metadata": {},
     "output_type": "display_data"
    }
   ],
   "source": [
    "import matplotlib.pyplot as plt\n",
    "from matplotlib import cm\n",
    "from matplotlib import colors\n",
    "# Asumiento una venta de ropa por mes se obtiene los siguientes datos\n",
    "cantidad = [80,50,30,50]\n",
    "inventario = [\"pantalones\",\"camisas\",\"chompas\",\"blusas\"]\n",
    "\n",
    "normdata = colors.Normalize(min(cantidad), max(cantidad)) \n",
    "colormap = cm.get_cmap(\"Greens\") # aqui definimos los colores que utilizaremos en el gráfico\n",
    "colores =colormap(normdata(cantidad))\n",
    "\n",
    "plt.pie(cantidad, labels=inventario, autopct=\"%0.1f %%\", colors=colores)# autopct permite mostrar el valor porcentual\n",
    "plt.axis(\"equal\")\n",
    "plt.show()"
   ]
  },
  {
   "cell_type": "markdown",
   "metadata": {},
   "source": [
    "### 4.Scatter Plot con Mapplotlib en Python"
   ]
  },
  {
   "cell_type": "code",
   "execution_count": 32,
   "metadata": {},
   "outputs": [
    {
     "data": {
      "text/plain": [
       "Text(0, 80, 'Ubicación de zona segura!')"
      ]
     },
     "execution_count": 32,
     "metadata": {},
     "output_type": "execute_result"
    },
    {
     "data": {
      "image/png": "[encoded data removed]",
      "text/plain": [
       "<Figure size 432x288 with 1 Axes>"
      ]
     },
     "metadata": {
      "needs_background": "light"
     },
     "output_type": "display_data"
    }
   ],
   "source": [
    "# Importamos la libreria\n",
    "import matplotlib.pyplot as plt\n",
    "import numpy as np\n",
    "import pandas as pd\n",
    " \n",
    "# Basico Gráfico\n",
    "# Generamos un rango  el cual se generara con datos  plot\n",
    "df=pd.DataFrame({'x': range(1,101), 't': np.random.randn(100)*15+range(1,101) })\n",
    "plt.plot( 'x', 't', data=df, linestyle='none', marker='o')\n",
    " \n",
    "# Aqui adjuntamos texto y fecha al Gráfico\n",
    "plt.annotate(\n",
    "# Etiqueta de texto\n",
    "'Ubicación de zona segura!', xy=(25, 50), xytext=(0, 80),\n",
    " \n",
    "# Flecha\n",
    "arrowprops=dict(facecolor='red', shrink=0.05)\n",
    ")\n"
   ]
  },
  {
   "cell_type": "markdown",
   "metadata": {},
   "source": [
    "Basicamente Scatter  sirve para diferenciar variables  o identificar patrones de brotes  de algun virus o recurrente a catastrofes naturales y crear una representación gráfica de 2 dimensiones o 3 y identificar la raíz del problema."
   ]
  },
  {
   "cell_type": "markdown",
   "metadata": {},
   "source": [
    "### 5.Cómo combinar 4 gráficos en una única figura (subplot)?."
   ]
  },
  {
   "cell_type": "markdown",
   "metadata": {},
   "source": [
    "El comando subplot divide la ventana gráfica en hasta un máximo de 9 áreas rectangulares y en cada una de las cuales se puede tener una gráfica distinta\n",
    "Sin embargo, puede utilizar el comando hold on para combinar varias gráficas en los mismos ejes.\n",
    "Así mismo utilizar las variables nuevas de los ejes y valores de marca pueden ajustarse para acomodar los nuevos datos  basados en las propiedades ColorOrder y LineStyleOrder de los ejes."
   ]
  },
  {
   "cell_type": "code",
   "execution_count": null,
   "metadata": {},
   "outputs": [],
   "source": []
  }
 ],
 "metadata": {
  "kernelspec": {
   "display_name": "Python 3",
   "language": "python",
   "name": "python3"
  },
  "language_info": {
   "codemirror_mode": {
    "name": "ipython",
    "version": 3
   },
   "file_extension": ".py",
   "mimetype": "text/x-python",
   "name": "python",
   "nbconvert_exporter": "python",
   "pygments_lexer": "ipython3",
   "version": "3.7.6"
  }
 },
 "nbformat": 4,
 "nbformat_minor": 4
}
