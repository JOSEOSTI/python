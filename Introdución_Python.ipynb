{
 "cells": [
  {
   "cell_type": "markdown",
   "metadata": {},
   "source": [
    "# Introducción a Python\n",
    "### Nombre: Jose Ostaiza  \n",
    "### Fecha:23/06/2020\n",
    "\n"
   ]
  },
  {
   "cell_type": "markdown",
   "metadata": {},
   "source": [
    "#  1.-Variables y tipos de datos en Python\n",
    "Una variable hace referencia a un lugar etiquetado en la memoria del equipo donde el usuario puede guardar, modificar y acceder a información. En caso de que el valor guardado sea fijo, se denomina constante.\n",
    "\n",
    "### 1.1-Comentarios en Python"
   ]
  },
  {
   "cell_type": "code",
   "execution_count": null,
   "metadata": {},
   "outputs": [],
   "source": [
    "# Esto es  un comentario de línea\n",
    "\"\"\" Esto es un comentario\n",
    "de varias lineas\n",
    "\"\"\"\n",
    "#### Python solo reconoce como comentarios los textos que estén precedidos del carácter numeral.\n",
    "\n",
    "#### El segundo caso se trata realmente de una cadena de texto de varias líneas que no se ha asignado a ninguna variable.\n",
    "\n",
    "## 2.-Constantes y variables en Python"
   ]
  },
  {
   "cell_type": "code",
   "execution_count": 4,
   "metadata": {},
   "outputs": [
    {
     "name": "stdout",
     "output_type": "stream",
     "text": [
      "Esto es una constante numérica: 123456\n",
      "Esto es una cadena de texto: hola como estas?\n"
     ]
    }
   ],
   "source": [
    "# Constantes:imprimimos y comprobamos los resultados\n",
    "\n",
    "print(\"Esto es una constante numérica: \" + str(123456))\n",
    "print(\"Esto es una cadena de texto: \" + \"hola como estas?\")"
   ]
  },
  {
   "cell_type": "code",
   "execution_count": 6,
   "metadata": {},
   "outputs": [
    {
     "name": "stdout",
     "output_type": "stream",
     "text": [
      "Esto es una variable numérica: 6\n",
      "Esto es una cadena de texto: Hola mundo\n"
     ]
    }
   ],
   "source": [
    "# Variable numérica\n",
    "variable_numerica = 6\n",
    "\n",
    "# Variable cadena de texto (string)\n",
    "variable_String = \"Hola mundo\"\n",
    "\n",
    "# Imprimimos y comprobamos los resultados\n",
    "# Como puedes observar , usamos el símbolo + para concatenar cadenas de texto\n",
    "# Esto es un ejemplo básico de lo que se conoce como sobrecarga de operadores\n",
    "# un mismo símbolo tiene distintos significados según el tipo  a los que aplica\n",
    "print(\"Esto es una variable numérica: \" + str(variable_numerica))\n",
    "print(\"Esto es una cadena de texto: \" + variable_String)\n"
   ]
  },
  {
   "cell_type": "markdown",
   "metadata": {},
   "source": [
    "### 1.2-Nombres sensibles a mayúsculas y valores constantes(Python)"
   ]
  },
  {
   "cell_type": "code",
   "execution_count": 8,
   "metadata": {},
   "outputs": [
    {
     "name": "stdout",
     "output_type": "stream",
     "text": [
      "5\n",
      "2\n"
     ]
    }
   ],
   "source": [
    "# Los nombres son sensibles a mayúsculas\n",
    "Variable = 5\n",
    "variable = 2\n",
    "print(Variable)\n",
    "print(variable)"
   ]
  },
  {
   "cell_type": "markdown",
   "metadata": {},
   "source": [
    " Si queremos declarar un valor constante para todo el programa pero no queremos introducir el valor exacto  de forma reiterativa podemos hacer así\n",
    "\n",
    "## CONSTANTE_PRUEBA = 5\n",
    "\n",
    "De esta  forma, al estar en mayúscula indicamos que queremos que tenga tratamiento  de constante. Si quisiéramos cambiar el valor  bastaría con hacerlo solo en la declaración y no tener que ir  reemplazando todos los 5  que hemos puesto"
   ]
  },
  {
   "cell_type": "markdown",
   "metadata": {},
   "source": [
    "Podemos saber el tipo asociado a una variable concreta con la función Type. También hay funciones que nos permiten realizar conversión de tipos, como str (de número a cadena de texto), int (a entero), float (a número real):"
   ]
  },
  {
   "cell_type": "markdown",
   "metadata": {},
   "source": [
    "### 1.3.-Trabajando con variables distintas python"
   ]
  },
  {
   "cell_type": "code",
   "execution_count": 2,
   "metadata": {},
   "outputs": [
    {
     "name": "stdout",
     "output_type": "stream",
     "text": [
      "<class 'int'>\n",
      "<class 'str'>\n"
     ]
    }
   ],
   "source": [
    "# Trabajando con diferentes variables\n",
    "# ¿De qué tipo es la variable?\n",
    "variable = 5\n",
    "variable_String = \"hola\"\n",
    "print(type(variable))\n",
    "# ¿y la variable string?\n",
    "print(type(variable_String))"
   ]
  },
  {
   "cell_type": "code",
   "execution_count": 3,
   "metadata": {},
   "outputs": [
    {
     "name": "stdout",
     "output_type": "stream",
     "text": [
      "3.75\n",
      "3.75\n",
      "<class 'float'>\n",
      "<class 'str'>\n",
      "3\n",
      "3.75\n",
      "5\n"
     ]
    }
   ],
   "source": [
    "# Conversiones de tipos de variables\n",
    "numero_real = 3.75\n",
    "print(numero_real)\n",
    "print(str(numero_real))\n",
    "print(type(numero_real))\n",
    "print(type(str(numero_real)))\n",
    "print(int(numero_real))\n",
    "print(float(str(numero_real)))\n",
    "print(int(\"5\"))"
   ]
  },
  {
   "cell_type": "markdown",
   "metadata": {},
   "source": [
    "#  2.-Tipos de datos Complejos\n",
    "\n",
    "Existen tipos de datos con una organización más compleja, tal es el caso de tuplas,listas y conjuntos. Además, las cadenas de caracteres admiten un tipo de manejo particular. Veamos estos aspectos con ejemplos prácticos"
   ]
  },
  {
   "cell_type": "markdown",
   "metadata": {},
   "source": [
    "### 2.1.-Tratando cadenas de texto"
   ]
  },
  {
   "cell_type": "code",
   "execution_count": 6,
   "metadata": {},
   "outputs": [
    {
     "name": "stdout",
     "output_type": "stream",
     "text": [
      "e\n",
      "es u\n",
      "Esto \n",
      "es una cadena\n",
      "18\n"
     ]
    }
   ],
   "source": [
    "# Acceso  a elementos de una cadena mediante la posición \n",
    "cadena = \"Esto es una cadena\"\n",
    "print(cadena[5]) # debemos tener en cuenta que el índice comienza por 0\n",
    "print(cadena[5:9]) # rango de valores -> de 5 a 9\n",
    "print(cadena[:5]) # hasta posición 5\n",
    "print(cadena[5:]) # de posición 5 en adelante\n",
    "print(len(cadena)) # longitud"
   ]
  },
  {
   "cell_type": "markdown",
   "metadata": {},
   "source": [
    "### 2.2-Conjuntos básicos en Python"
   ]
  },
  {
   "cell_type": "markdown",
   "metadata": {},
   "source": [
    "Los conjuntos son colecciones no ordenadas y sin elementos repetidos. Pueden ser muy útiles en distintos tipos de situaciones."
   ]
  },
  {
   "cell_type": "code",
   "execution_count": 10,
   "metadata": {},
   "outputs": [
    {
     "name": "stdout",
     "output_type": "stream",
     "text": [
      "{'yogurt', 'leche', 'helado', 'queso', 'mantequilla'}\n",
      "<class 'set'>\n",
      "yogurt\n",
      "yogurt\n",
      "{'leche', 'helado', 'queso', 'mantequilla'}\n",
      "{'leche', 'helado', 'queso', 'mantequilla'}\n"
     ]
    }
   ],
   "source": [
    "# Conjutos en Python\n",
    "lacteos ={ \"queso\", \"leche\",\"helado\",\"yogurt\",\"mantequilla\"}\n",
    "print(lacteos)\n",
    "print(type(lacteos))\n",
    "# elementos del conjunto\n",
    "print(next(iter(lacteos)))\n",
    "print(lacteos.pop())\n",
    "print(lacteos)\n",
    "# wuoo,yogurt ha desaparecido\n",
    "lacteos.add(\"queso\")\n",
    "print(lacteos)\n",
    "# como podemos observar  un conjunto no tiene elementos repetidos"
   ]
  },
  {
   "cell_type": "markdown",
   "metadata": {},
   "source": [
    "### 2.3.-Listas en Python"
   ]
  },
  {
   "cell_type": "markdown",
   "metadata": {},
   "source": [
    "Las listas son una de las estructuras más frecuente en Python, permite acumular y\n",
    "manipular datos de forma sencilla."
   ]
  },
  {
   "cell_type": "code",
   "execution_count": 18,
   "metadata": {},
   "outputs": [
    {
     "name": "stdout",
     "output_type": "stream",
     "text": [
      "<class 'list'>\n",
      "{'pera', 'manzana', 'platano', 'naranja'}\n",
      "<class 'set'>\n",
      "True\n",
      "['pera', 'manzana', 'naranja', 'platano', 'mandarina']\n",
      "0\n"
     ]
    }
   ],
   "source": [
    "# trabajando con listas\n",
    "frutas =['pera','manzana','naranja','platano']\n",
    "# tipo?\n",
    "print(type(frutas))\n",
    "\n",
    "# asigna una variable a la lista\n",
    "comer_una_frt = set(frutas)\n",
    "print(comer_una_frt)\n",
    "print(type(comer_una_frt))\n",
    "\n",
    "\n",
    "# Condicionales\n",
    "en_astuarias = 'pera' in comer_una_frt\n",
    "print(en_astuarias)\n",
    "\n",
    "# escribe frutas y pulsa sobre el tabulador para ver las distintas opciones disponibles\n",
    "frutas.insert(len(frutas),\"mandarina\") # insertar al final\n",
    "print(frutas)\n",
    "# ¿Cómo va el orden aquí?\n",
    "print(frutas.index(\"pera\"))\n",
    "# Parece ser que empieza por 0"
   ]
  },
  {
   "cell_type": "markdown",
   "metadata": {},
   "source": [
    " ### 2.4.-Tuplas en Python\n",
    " una tupla es una lista inmutable"
   ]
  },
  {
   "cell_type": "code",
   "execution_count": 21,
   "metadata": {},
   "outputs": [
    {
     "name": "stdout",
     "output_type": "stream",
     "text": [
      "[1, 2, 3, 4, 5]\n",
      "[99, 2, 3, 4, 5]\n",
      "{1, 2, 3, 4, 5}\n"
     ]
    },
    {
     "ename": "TypeError",
     "evalue": "'set' object does not support item assignment",
     "output_type": "error",
     "traceback": [
      "\u001b[1;31m---------------------------------------------------------------------------\u001b[0m",
      "\u001b[1;31mTypeError\u001b[0m                                 Traceback (most recent call last)",
      "\u001b[1;32m<ipython-input-21-fd5f2b1104d5>\u001b[0m in \u001b[0;36m<module>\u001b[1;34m\u001b[0m\n\u001b[0;32m      8\u001b[0m \u001b[0mtupla2\u001b[0m \u001b[1;33m=\u001b[0m \u001b[1;33m{\u001b[0m\u001b[1;36m1\u001b[0m\u001b[1;33m,\u001b[0m\u001b[1;36m2\u001b[0m\u001b[1;33m,\u001b[0m\u001b[1;36m3\u001b[0m\u001b[1;33m,\u001b[0m\u001b[1;36m4\u001b[0m\u001b[1;33m,\u001b[0m\u001b[1;36m5\u001b[0m\u001b[1;33m}\u001b[0m\u001b[1;33m\u001b[0m\u001b[1;33m\u001b[0m\u001b[0m\n\u001b[0;32m      9\u001b[0m \u001b[0mprint\u001b[0m\u001b[1;33m(\u001b[0m\u001b[0mtupla2\u001b[0m\u001b[1;33m)\u001b[0m\u001b[1;33m\u001b[0m\u001b[1;33m\u001b[0m\u001b[0m\n\u001b[1;32m---> 10\u001b[1;33m \u001b[0mtupla2\u001b[0m\u001b[1;33m[\u001b[0m\u001b[1;36m0\u001b[0m\u001b[1;33m]\u001b[0m \u001b[1;33m=\u001b[0m \u001b[1;36m99\u001b[0m\u001b[1;33m\u001b[0m\u001b[1;33m\u001b[0m\u001b[0m\n\u001b[0m\u001b[0;32m     11\u001b[0m \u001b[0mprint\u001b[0m\u001b[1;33m(\u001b[0m\u001b[0mtupla\u001b[0m\u001b[1;33m)\u001b[0m \u001b[1;31m#\u001b[0m\u001b[1;33m\u001b[0m\u001b[1;33m\u001b[0m\u001b[0m\n",
      "\u001b[1;31mTypeError\u001b[0m: 'set' object does not support item assignment"
     ]
    }
   ],
   "source": [
    "# Tuplas\n",
    "# Comprender qué es una tupla\n",
    "tupla = [1,2,3,4,5]\n",
    "print(tupla)\n",
    "tupla[0] = 99\n",
    "print(tupla) # por eso esto no es una tabla\n",
    "\n",
    "tupla2 = {1,2,3,4,5}\n",
    "print(tupla2)\n",
    "tupla2[0] = 99\n",
    "print(tupla) #  podremos observar un error\n",
    "# por eso tupla2 sí es una tupla"
   ]
  },
  {
   "cell_type": "markdown",
   "metadata": {},
   "source": [
    "### 2.5.-Diccionarios en Python\n",
    "\n",
    "Otra estructura de datos interesante es el diccionario. Un diccionario permite\n",
    "identificar a sus elementos a través de una clave. La siguiente imagen muestra \n",
    "un ejemplo típico de uso"
   ]
  },
  {
   "cell_type": "code",
   "execution_count": 24,
   "metadata": {},
   "outputs": [
    {
     "name": "stdout",
     "output_type": "stream",
     "text": [
      "jose\n",
      "25\n",
      "['Python', 'Machine learning', 'Angular']\n",
      "Python\n",
      "nombre : jose\n",
      "edad : 25\n",
      "cursos : ['Python', 'Machine learning', 'Angular']\n"
     ]
    }
   ],
   "source": [
    "# Diccionarios\n",
    "\n",
    "diccionario = {'nombre':'jose','edad':25,'cursos':['Python','Machine learning','Angular']}\n",
    "\n",
    "# Accediendo a los valores\n",
    "print(diccionario['nombre'])\n",
    "print(diccionario['edad'])\n",
    "print(diccionario['cursos'])\n",
    "\n",
    "# Recorrido modo lista\n",
    "print(diccionario['cursos'][0])\n",
    "# Recorrer todo el diccionario\n",
    "for key in diccionario:\n",
    "    print(key, \":\" ,diccionario [key])"
   ]
  },
  {
   "cell_type": "markdown",
   "metadata": {},
   "source": [
    "Como estructura particular de Python, los diccionarios tienen sus propios métodos."
   ]
  },
  {
   "cell_type": "markdown",
   "metadata": {},
   "source": [
    "# 3.- Condiciones, bucles y funciones en Python "
   ]
  },
  {
   "cell_type": "markdown",
   "metadata": {},
   "source": [
    "Un bucle es una instrucción iterativa que permite realizar un conjunto de acciones un número concreto de veces. Las funciones son esenciales en cualquier lenguaje de programación, permiten encapsular un comportamiento común facilitando la reusabilidad e interpretabilidad del código. "
   ]
  },
  {
   "cell_type": "markdown",
   "metadata": {},
   "source": [
    "### 3.1.-Condicionales en Python\n",
    "\n",
    "Las siguientes imágenes muestran ejemplos que ayudarán a entender los conceptos planteados. Se recomienda a los alumnos repetir este código en sus propios entornos."
   ]
  },
  {
   "cell_type": "code",
   "execution_count": 3,
   "metadata": {},
   "outputs": [
    {
     "name": "stdout",
     "output_type": "stream",
     "text": [
      "El número es par\n"
     ]
    }
   ],
   "source": [
    "# Esto es una isntrucción condicional\n",
    "numero = 12\n",
    "\n",
    "# ->% representa módulo o resto de una división\n",
    "\n",
    "if(numero % 2 == 0):\n",
    "    print(\"El número es par\")\n",
    "else:\n",
    "    print(\"El número es impar\")"
   ]
  },
  {
   "cell_type": "code",
   "execution_count": 4,
   "metadata": {},
   "outputs": [
    {
     "name": "stdout",
     "output_type": "stream",
     "text": [
      "El número es par\n"
     ]
    }
   ],
   "source": [
    "# Otra forma \n",
    "print(\"El número es par\") if numero % 2 == 0 else print(\"El número es impar\")"
   ]
  },
  {
   "cell_type": "markdown",
   "metadata": {},
   "source": [
    "###  3.2.-Ejemplo de un bucle en Python"
   ]
  },
  {
   "cell_type": "code",
   "execution_count": 5,
   "metadata": {},
   "outputs": [
    {
     "name": "stdout",
     "output_type": "stream",
     "text": [
      "Iteración número0\n",
      "Iteración número1\n",
      "Iteración número2\n",
      "Iteración número3\n",
      "Iteración número4\n"
     ]
    }
   ],
   "source": [
    "# probamos ahora un bucle for\n",
    "\n",
    "for valor in range(5): # en range podemos utilizar el numero de rango de veces que queremos que se ons inprima\n",
    "    print(\"Iteración número\" + str(valor))\n"
   ]
  },
  {
   "cell_type": "markdown",
   "metadata": {},
   "source": [
    "###  3.3.-Bucle while en Python"
   ]
  },
  {
   "cell_type": "code",
   "execution_count": 6,
   "metadata": {},
   "outputs": [
    {
     "name": "stdout",
     "output_type": "stream",
     "text": [
      "Iteración número 0\n",
      "Iteración número 1\n",
      "Iteración número 2\n",
      "Iteración número 3\n",
      "Iteración número 4\n"
     ]
    }
   ],
   "source": [
    "# bucle while\n",
    "valor = 0\n",
    "while (valor < 5):\n",
    "    print(\"Iteración número \" + str (valor))\n",
    "    valor = valor + 1\n",
    "# fin bucle"
   ]
  },
  {
   "cell_type": "markdown",
   "metadata": {},
   "source": [
    "### 3.4.- Funciones  en Python"
   ]
  },
  {
   "cell_type": "code",
   "execution_count": 10,
   "metadata": {},
   "outputs": [
    {
     "name": "stdout",
     "output_type": "stream",
     "text": [
      "El número 15 es impar\n",
      "El número 12 es par\n"
     ]
    }
   ],
   "source": [
    "# Función para saber si un  número es par o impar \n",
    "# Recibe un parametro de entrada para actuar en consecuencia \n",
    "def es_par(numero):\n",
    "    if(numero % 2 == 0):\n",
    "        print( \"El número \" + str(numero)+ \" es par\")\n",
    "    else:\n",
    "        print( \"El número \" + str(numero)+ \" es impar\")\n",
    "\n",
    "# Aquí acaba la función \n",
    "# La indentación es muy importante\n",
    "\n",
    "# Llamamos a la función como sige\n",
    "es_par(15)\n",
    "es_par(12)"
   ]
  },
  {
   "cell_type": "markdown",
   "metadata": {},
   "source": [
    "\n",
    "### 3.5.-Función que devuelve valores en Python\n",
    "\n",
    "Una función puede devolver valores. Y pueden ser uno o varios valores."
   ]
  },
  {
   "cell_type": "code",
   "execution_count": 11,
   "metadata": {},
   "outputs": [
    {
     "name": "stdout",
     "output_type": "stream",
     "text": [
      "17---24\n"
     ]
    }
   ],
   "source": [
    "# Crearemos ahora una función que devuelve un valor \n",
    "# Ejemplo sencillo, si es par multiplicamos por 2\n",
    "# Si es impar sumamos  dos\n",
    "\n",
    "def transforma_numero(numero):\n",
    "    if(numero % 2 == 0):\n",
    "        return(numero * 2)\n",
    "    else:\n",
    "        return(numero + 2)\n",
    "# Aquí acaba  la función \n",
    "\n",
    "# Llamamos a la función como sigue\n",
    "prueba1 = transforma_numero(15)\n",
    "prueba2 = transforma_numero(12)\n",
    "\n",
    "print(str(prueba1)+ \"---\" + str(prueba2))\n"
   ]
  },
  {
   "cell_type": "markdown",
   "metadata": {},
   "source": [
    "### 3.6.- Función que devuelve varios valores en Python"
   ]
  },
  {
   "cell_type": "code",
   "execution_count": 14,
   "metadata": {},
   "outputs": [
    {
     "name": "stdout",
     "output_type": "stream",
     "text": [
      "15_17---12_24\n"
     ]
    }
   ],
   "source": [
    "# Ejemplo de función que devuelve varios valores\n",
    "# Similar a la anterior pero supongamos que ahora\n",
    "# devuelve siempre  número en primer\n",
    "def transforma_numero(numero):\n",
    "    if(numero % 2 == 0):\n",
    "        return(numero, numero * 2)\n",
    "    else:\n",
    "        return(numero, numero + 2)\n",
    "    #Aquí acaba la función \n",
    "    \n",
    "# Llamamos a la función  como sigue \n",
    "numero1, prueba1 = transforma_numero(15)\n",
    "numero2, prueba2 = transforma_numero(12)\n",
    "\n",
    "print(str(numero1) + \"_\" + str(prueba1) +\n",
    "     \"---\" + str(numero2) + \"_\" + str(prueba2))\n"
   ]
  },
  {
   "cell_type": "markdown",
   "metadata": {},
   "source": [
    "# 4.-Objetos en Python\n",
    "\n",
    "En el paradigma de la programación orientada a objetos, una clase permite\n",
    "encapsular de forma conjunta atributos (datos) y métodos (acciones). Cuando una\n",
    "clase se instancia, da lugar a un objeto. Por ejemplo y dada la clase «coche», podemos\n",
    "crear a partir de ella una instancia objeto que sea un modelo de coche determinado\n",
    "con una matrícula concreta. Gracias a los atributos podemos saber el estado de un\n",
    "objeto. Los métodos de la clase permiten al objeto realizar acciones y comunicarse\n",
    "con su entorno.\n",
    "\n",
    "Una explicación detallada del paradigma de la programación orientada a objetos\n",
    "excede el ámbito del presente tema y asignatura. Por tanto, nos centraremos en\n",
    "explicar un ejemplo típico de cómo crear un objeto en Python"
   ]
  },
  {
   "cell_type": "code",
   "execution_count": null,
   "metadata": {},
   "outputs": [],
   "source": [
    " # clase retángulo\n",
    "import matplotlib.pyplot as plt\n",
    "\n",
    "class Rectangulo:\n",
    "    def _init_(self,x,y):\n",
    "        self.x = x\n",
    "        self.y = y\n",
    "    descripcion = \" esto es un rectangulo\"\n",
    "    autor = \"anonimo\"\n",
    "    def area(self):\n",
    "        return self.x * self.y\n",
    "    def perimetro(self):\n",
    "        return 2 * self.x + 2 * self.y\n",
    "    def descripcion(self,text):\n",
    "        self.descripcion = text\n",
    "    def nombreAutor(self,text):\n",
    "        self.author = text\n",
    "    def cambiaDimensiones(self,scale):\n",
    "        self.x = self.x * scale\n",
    "        self.y = self.y * scale\n",
    "        \n",
    "\n",
    "rectangulo1 = Rectangulo(90,35)\n",
    "rectangulo2 = Rectangulo(20,11)\n",
    "\n",
    "#describing the rectangles\n",
    "rectangulo1.descripcion(\"Rectangulo de juguete\")\n",
    "print(rectangulo1.descripcion)\n",
    "print(rectangulo2.area())"
   ]
  },
  {
   "cell_type": "markdown",
   "metadata": {
    "scrolled": true
   },
   "source": [
    "# 5-rafico simple en Python"
   ]
  },
  {
   "cell_type": "code",
   "execution_count": 2,
   "metadata": {},
   "outputs": [
    {
     "data": {
      "image/png": "[encoded data removed]",
      "text/plain": [
       "<Figure size 432x288 with 1 Axes>"
      ]
     },
     "metadata": {
      "needs_background": "light"
     },
     "output_type": "display_data"
    }
   ],
   "source": [
    "# importar todas las funciones de pylab\n",
    "from pylab import *\n",
    "\n",
    "# importar el módulo pyplot\n",
    "import matplotlib.pyplot as plt\n",
    "x = arange(10.)  \n",
    "plot(x)       \n",
    "show() "
   ]
  },
  {
   "cell_type": "markdown",
   "metadata": {},
   "source": [
    "# 6-Histograma con función de densidad"
   ]
  },
  {
   "cell_type": "code",
   "execution_count": 10,
   "metadata": {},
   "outputs": [
    {
     "data": {
      "image/png": "[encoded data removed]",
      "text/plain": [
       "<Figure size 432x288 with 1 Axes>"
      ]
     },
     "metadata": {
      "needs_background": "light"
     },
     "output_type": "display_data"
    }
   ],
   "source": [
    "# para ajercicos de mayor complejidad puedes visitar la pagina de ejercicos\n",
    "# https://matplotlib.org/api/pyplot_api.html\n",
    "# importamos las librerias\n",
    "\n",
    "import numpy as np\n",
    "import matplotlib.mlab as mlab\n",
    "import matplotlib.pyplot as plt\n",
    "\n",
    "np.random.seed(0)\n",
    "\n",
    "# generamos nuestros propios datos de ejemplo\n",
    "mu = 100  # media de distribución\n",
    "sigma = 15  # desviación típica\n",
    "x = mu + sigma * np.random.randn(437)\n",
    "\n",
    "num_bins = 50 # intervalos\n",
    "\n",
    "fig, ax = plt.subplots()\n",
    "\n",
    "# histograma de los datos\n",
    "n, bins, patches = ax.hist(x, num_bins, density=1)\n",
    "\n",
    "#  con eso agregamos una linea de  mejor ajuste a los valores\n",
    "y = ((1 / (np.sqrt(2 * np.pi) * sigma ))*\n",
    "    np.exp(-0.5 * (1 / sigma * ( bins - num ))**2))\n",
    "ax.plot(bins, y, '--')\n",
    "ax.set_xlabel('Smarts')\n",
    "ax.set_ylabel('Probability density')\n",
    "ax.set_title(r'Histogram of IQ: $\\mu=100$, $\\sigma=15$')\n",
    "\n",
    "# Modificamos el espacio para impedir solapamientos\n",
    "fig.tight_layout()\n",
    "plt.show()"
   ]
  }
 ],
 "metadata": {
  "kernelspec": {
   "display_name": "Python 3",
   "language": "python",
   "name": "python3"
  },
  "language_info": {
   "codemirror_mode": {
    "name": "ipython",
    "version": 3
   },
   "file_extension": ".py",
   "mimetype": "text/x-python",
   "name": "python",
   "nbconvert_exporter": "python",
   "pygments_lexer": "ipython3",
   "version": "3.7.6"
  }
 },
 "nbformat": 4,
 "nbformat_minor": 4
}
