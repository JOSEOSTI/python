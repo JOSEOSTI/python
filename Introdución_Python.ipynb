{
 "cells": [
  {
   "cell_type": "markdown",
   "metadata": {},
   "source": [
    "# Introducción a Python\n",
    "### Nombre: Jose Ostaiza  \n",
    "### Fecha:23/06/2020\n",
    "\n"
   ]
  },
  {
   "cell_type": "markdown",
   "metadata": {},
   "source": [
    "## 1.-Comentarios en Python"
   ]
  },
  {
   "cell_type": "markdown",
   "metadata": {},
   "source": [
    "# Esto es  un comentario de línea\n",
    "\"\"\" Esto es un comentario\n",
    "de varias lineas\n",
    "\"\"\"\n",
    "#### Python solo reconoce como comentarios los textos que estén precedidos del carácter numeral.\n",
    "\n",
    "#### El segundo caso se trata realmente de una cadena de texto de varias líneas que no se ha asignado a ninguna variable.\n",
    "\n",
    "## 2.-Constantes y variables en Python"
   ]
  },
  {
   "cell_type": "code",
   "execution_count": 4,
   "metadata": {},
   "outputs": [
    {
     "name": "stdout",
     "output_type": "stream",
     "text": [
      "Esto es una constante numérica: 123456\n",
      "Esto es una cadena de texto: hola como estas?\n"
     ]
    }
   ],
   "source": [
    "# Constantes:imprimimos y comprobamos los resultados\n",
    "\n",
    "print(\"Esto es una constante numérica: \" + str(123456))\n",
    "print(\"Esto es una cadena de texto: \" + \"hola como estas?\")"
   ]
  },
  {
   "cell_type": "code",
   "execution_count": 6,
   "metadata": {},
   "outputs": [
    {
     "name": "stdout",
     "output_type": "stream",
     "text": [
      "Esto es una variable numérica: 6\n",
      "Esto es una cadena de texto: Hola mundo\n"
     ]
    }
   ],
   "source": [
    "# Variable numérica\n",
    "variable_numerica = 6\n",
    "\n",
    "# Variable cadena de texto (string)\n",
    "variable_String = \"Hola mundo\"\n",
    "\n",
    "# Imprimimos y comprobamos los resultados\n",
    "# Como puedes observar , usamos el símbolo + para concatenar cadenas de texto\n",
    "# Esto es un ejemplo básico de lo que se conoce como sobrecarga de operadores\n",
    "# un mismo símbolo tiene distintos significados según el tipo  a los que aplica\n",
    "print(\"Esto es una variable numérica: \" + str(variable_numerica))\n",
    "print(\"Esto es una cadena de texto: \" + variable_String)\n"
   ]
  },
  {
   "cell_type": "markdown",
   "metadata": {},
   "source": [
    "## 3.-Nombres sensibles a mayúsculas y valores constantes(Python)"
   ]
  },
  {
   "cell_type": "code",
   "execution_count": 8,
   "metadata": {},
   "outputs": [
    {
     "name": "stdout",
     "output_type": "stream",
     "text": [
      "5\n",
      "2\n"
     ]
    }
   ],
   "source": [
    "# Los nombres son sensibles a mayúsculas\n",
    "Variable = 5\n",
    "variable = 2\n",
    "print(Variable)\n",
    "print(variable)"
   ]
  },
  {
   "cell_type": "markdown",
   "metadata": {},
   "source": [
    " Si queremos declarar un valor constante para todo el programa pero no queremos introducir el valor exacto  de forma reiterativa podemos hacer así\n",
    "\n",
    "## CONSTANTE_PRUEBA = 5\n",
    "\n",
    "De esta  forma, al estar en mayúscula indicamos que queremos que tenga tratamiento  de constante. Si quisiéramos cambiar el valor  bastaría con hacerlo solo en la declaración y no tener que ir  reemplazando todos los 5  que hemos puesto"
   ]
  },
  {
   "cell_type": "markdown",
   "metadata": {},
   "source": [
    "Podemos saber el tipo asociado a una variable concreta con la función Type. También hay funciones que nos permiten realizar conversión de tipos, como str (de número a cadena de texto), int (a entero), float (a número real):"
   ]
  },
  {
   "cell_type": "markdown",
   "metadata": {},
   "source": [
    "## 4.-Trabajando con variables distintas python"
   ]
  },
  {
   "cell_type": "code",
   "execution_count": 2,
   "metadata": {},
   "outputs": [
    {
     "name": "stdout",
     "output_type": "stream",
     "text": [
      "<class 'int'>\n",
      "<class 'str'>\n"
     ]
    }
   ],
   "source": [
    "# Trabajando con diferentes variables\n",
    "# ¿De qué tipo es la variable?\n",
    "variable = 5\n",
    "variable_String = \"hola\"\n",
    "print(type(variable))\n",
    "# ¿y la variable string?\n",
    "print(type(variable_String))"
   ]
  },
  {
   "cell_type": "code",
   "execution_count": 3,
   "metadata": {},
   "outputs": [
    {
     "name": "stdout",
     "output_type": "stream",
     "text": [
      "3.75\n",
      "3.75\n",
      "<class 'float'>\n",
      "<class 'str'>\n",
      "3\n",
      "3.75\n",
      "5\n"
     ]
    }
   ],
   "source": [
    "# Conversiones de tipos de variables\n",
    "numero_real = 3.75\n",
    "print(numero_real)\n",
    "print(str(numero_real))\n",
    "print(type(numero_real))\n",
    "print(type(str(numero_real)))\n",
    "print(int(numero_real))\n",
    "print(float(str(numero_real)))\n",
    "print(int(\"5\"))"
   ]
  },
  {
   "cell_type": "markdown",
   "metadata": {},
   "source": [
    "# Tipos de datos Complejos\n",
    "\n",
    "Existen tipos de datos con una organización más compleja, tal es el caso de tuplas,listas y conjuntos. Además, las cadenas de caracteres admiten un tipo de manejo particular. Veamos estos aspectos con ejemplos prácticos"
   ]
  },
  {
   "cell_type": "markdown",
   "metadata": {},
   "source": [
    "## 1.-Tratando cadenas de texto"
   ]
  },
  {
   "cell_type": "code",
   "execution_count": 6,
   "metadata": {},
   "outputs": [
    {
     "name": "stdout",
     "output_type": "stream",
     "text": [
      "e\n",
      "es u\n",
      "Esto \n",
      "es una cadena\n",
      "18\n"
     ]
    }
   ],
   "source": [
    "# Acceso  a elementos de una cadena mediante la posición \n",
    "cadena = \"Esto es una cadena\"\n",
    "print(cadena[5]) # debemos tener en cuenta que el índice comienza por 0\n",
    "print(cadena[5:9]) # rango de valores -> de 5 a 9\n",
    "print(cadena[:5]) # hasta posición 5\n",
    "print(cadena[5:]) # de posición 5 en adelante\n",
    "print(len(cadena)) # longitud"
   ]
  },
  {
   "cell_type": "markdown",
   "metadata": {},
   "source": [
    "## 2.-Conjuntos básicos en Python"
   ]
  },
  {
   "cell_type": "markdown",
   "metadata": {},
   "source": [
    "####  Los conjuntos son colecciones no ordenadas y sin elementos repetidos. Pueden ser muy útiles en distintos tipos de situaciones."
   ]
  },
  {
   "cell_type": "code",
   "execution_count": 10,
   "metadata": {},
   "outputs": [
    {
     "name": "stdout",
     "output_type": "stream",
     "text": [
      "{'yogurt', 'leche', 'helado', 'queso', 'mantequilla'}\n",
      "<class 'set'>\n",
      "yogurt\n",
      "yogurt\n",
      "{'leche', 'helado', 'queso', 'mantequilla'}\n",
      "{'leche', 'helado', 'queso', 'mantequilla'}\n"
     ]
    }
   ],
   "source": [
    "# Conjutos en Python\n",
    "lacteos ={ \"queso\", \"leche\",\"helado\",\"yogurt\",\"mantequilla\"}\n",
    "print(lacteos)\n",
    "print(type(lacteos))\n",
    "# elementos del conjunto\n",
    "print(next(iter(lacteos)))\n",
    "print(lacteos.pop())\n",
    "print(lacteos)\n",
    "# wuoo,yogurt ha desaparecido\n",
    "lacteos.add(\"queso\")\n",
    "print(lacteos)\n",
    "# como podemos observar  un conjunto no tiene elementos repetidos"
   ]
  },
  {
   "cell_type": "markdown",
   "metadata": {},
   "source": [
    "## 3.-Listas en Python"
   ]
  },
  {
   "cell_type": "markdown",
   "metadata": {},
   "source": [
    "Las listas son una de las estructuras más frecuente en Python, permite acumular y\n",
    "manipular datos de forma sencilla."
   ]
  },
  {
   "cell_type": "code",
   "execution_count": 18,
   "metadata": {},
   "outputs": [
    {
     "name": "stdout",
     "output_type": "stream",
     "text": [
      "<class 'list'>\n",
      "{'pera', 'manzana', 'platano', 'naranja'}\n",
      "<class 'set'>\n",
      "True\n",
      "['pera', 'manzana', 'naranja', 'platano', 'mandarina']\n",
      "0\n"
     ]
    }
   ],
   "source": [
    "# trabajando con listas\n",
    "frutas =['pera','manzana','naranja','platano']\n",
    "# tipo?\n",
    "print(type(frutas))\n",
    "\n",
    "# asigna una variable a la lista\n",
    "comer_una_frt = set(frutas)\n",
    "print(comer_una_frt)\n",
    "print(type(comer_una_frt))\n",
    "\n",
    "\n",
    "# Condicionales\n",
    "en_astuarias = 'pera' in comer_una_frt\n",
    "print(en_astuarias)\n",
    "\n",
    "# escribe frutas y pulsa sobre el tabulador para ver las distintas opciones disponibles\n",
    "frutas.insert(len(frutas),\"mandarina\") # insertar al final\n",
    "print(frutas)\n",
    "# ¿Cómo va el orden aquí?\n",
    "print(frutas.index(\"pera\"))\n",
    "# Parece ser que empieza por 0"
   ]
  },
  {
   "cell_type": "markdown",
   "metadata": {},
   "source": [
    " ## 4.-Tuplas en Python\n",
    " una tupla es una lista inmutable"
   ]
  },
  {
   "cell_type": "code",
   "execution_count": 21,
   "metadata": {},
   "outputs": [
    {
     "name": "stdout",
     "output_type": "stream",
     "text": [
      "[1, 2, 3, 4, 5]\n",
      "[99, 2, 3, 4, 5]\n",
      "{1, 2, 3, 4, 5}\n"
     ]
    },
    {
     "ename": "TypeError",
     "evalue": "'set' object does not support item assignment",
     "output_type": "error",
     "traceback": [
      "\u001b[1;31m---------------------------------------------------------------------------\u001b[0m",
      "\u001b[1;31mTypeError\u001b[0m                                 Traceback (most recent call last)",
      "\u001b[1;32m<ipython-input-21-fd5f2b1104d5>\u001b[0m in \u001b[0;36m<module>\u001b[1;34m\u001b[0m\n\u001b[0;32m      8\u001b[0m \u001b[0mtupla2\u001b[0m \u001b[1;33m=\u001b[0m \u001b[1;33m{\u001b[0m\u001b[1;36m1\u001b[0m\u001b[1;33m,\u001b[0m\u001b[1;36m2\u001b[0m\u001b[1;33m,\u001b[0m\u001b[1;36m3\u001b[0m\u001b[1;33m,\u001b[0m\u001b[1;36m4\u001b[0m\u001b[1;33m,\u001b[0m\u001b[1;36m5\u001b[0m\u001b[1;33m}\u001b[0m\u001b[1;33m\u001b[0m\u001b[1;33m\u001b[0m\u001b[0m\n\u001b[0;32m      9\u001b[0m \u001b[0mprint\u001b[0m\u001b[1;33m(\u001b[0m\u001b[0mtupla2\u001b[0m\u001b[1;33m)\u001b[0m\u001b[1;33m\u001b[0m\u001b[1;33m\u001b[0m\u001b[0m\n\u001b[1;32m---> 10\u001b[1;33m \u001b[0mtupla2\u001b[0m\u001b[1;33m[\u001b[0m\u001b[1;36m0\u001b[0m\u001b[1;33m]\u001b[0m \u001b[1;33m=\u001b[0m \u001b[1;36m99\u001b[0m\u001b[1;33m\u001b[0m\u001b[1;33m\u001b[0m\u001b[0m\n\u001b[0m\u001b[0;32m     11\u001b[0m \u001b[0mprint\u001b[0m\u001b[1;33m(\u001b[0m\u001b[0mtupla\u001b[0m\u001b[1;33m)\u001b[0m \u001b[1;31m#\u001b[0m\u001b[1;33m\u001b[0m\u001b[1;33m\u001b[0m\u001b[0m\n",
      "\u001b[1;31mTypeError\u001b[0m: 'set' object does not support item assignment"
     ]
    }
   ],
   "source": [
    "# Tuplas\n",
    "# Comprender qué es una tupla\n",
    "tupla = [1,2,3,4,5]\n",
    "print(tupla)\n",
    "tupla[0] = 99\n",
    "print(tupla) # por eso esto no es una tabla\n",
    "\n",
    "tupla2 = {1,2,3,4,5}\n",
    "print(tupla2)\n",
    "tupla2[0] = 99\n",
    "print(tupla) #  podremos observar un error\n",
    "# por eso tupla2 sí es una tupla"
   ]
  },
  {
   "cell_type": "markdown",
   "metadata": {},
   "source": [
    "## 5.-Diccionarios en Python\n",
    "\n",
    "Otra estructura de datos interesante es el diccionario. Un diccionario permite\n",
    "identificar a sus elementos a través de una clave. La siguiente imagen muestra \n",
    "un ejemplo típico de uso"
   ]
  },
  {
   "cell_type": "code",
   "execution_count": 24,
   "metadata": {},
   "outputs": [
    {
     "name": "stdout",
     "output_type": "stream",
     "text": [
      "jose\n",
      "25\n",
      "['Python', 'Machine learning', 'Angular']\n",
      "Python\n",
      "nombre : jose\n",
      "edad : 25\n",
      "cursos : ['Python', 'Machine learning', 'Angular']\n"
     ]
    }
   ],
   "source": [
    "# Diccionarios\n",
    "\n",
    "diccionario = {'nombre':'jose','edad':25,'cursos':['Python','Machine learning','Angular']}\n",
    "\n",
    "# Accediendo a los valores\n",
    "print(diccionario['nombre'])\n",
    "print(diccionario['edad'])\n",
    "print(diccionario['cursos'])\n",
    "\n",
    "# Recorrido modo lista\n",
    "print(diccionario['cursos'][0])\n",
    "# Recorrer todo el diccionario\n",
    "for key in diccionario:\n",
    "    print(key, \":\" ,diccionario [key])"
   ]
  },
  {
   "cell_type": "markdown",
   "metadata": {},
   "source": [
    "Como estructura particular de Python, los diccionarios tienen sus propios métodos."
   ]
  },
  {
   "cell_type": "code",
   "execution_count": null,
   "metadata": {},
   "outputs": [],
   "source": []
  }
 ],
 "metadata": {
  "kernelspec": {
   "display_name": "Python 3",
   "language": "python",
   "name": "python3"
  },
  "language_info": {
   "codemirror_mode": {
    "name": "ipython",
    "version": 3
   },
   "file_extension": ".py",
   "mimetype": "text/x-python",
   "name": "python",
   "nbconvert_exporter": "python",
   "pygments_lexer": "ipython3",
   "version": "3.7.6"
  }
 },
 "nbformat": 4,
 "nbformat_minor": 4
}
